{
 "cells": [
  {
   "cell_type": "markdown",
   "id": "fd43f71f-6bb8-4a9d-bae4-fa132b764662",
   "metadata": {},
   "source": [
    "## __POSTTEST 2__\n",
    "\n",
    "#### Nama  : Deby Ayu Syakhira\n",
    "#### NIM   : 2109106060\n",
    "#### Kelas : Informatika B1 2021"
   ]
  },
  {
   "cell_type": "markdown",
   "id": "774b0c34-841f-4f0d-ad24-61c6915ee67d",
   "metadata": {},
   "source": [
    "***"
   ]
  },
  {
   "cell_type": "markdown",
   "id": "23760caf-0743-4734-8746-4ce7c2db6b83",
   "metadata": {},
   "source": [
    "# Membaca data dari file CSV _heart_2020_cleaned_"
   ]
  },
  {
   "cell_type": "code",
   "execution_count": null,
   "id": "0d23a7f5-e5d8-46df-87bc-267169664080",
   "metadata": {
    "scrolled": true
   },
   "outputs": [],
   "source": [
    "import pandas as pd                                         #mengimpor library pandas\n",
    "import numpy as np                                          #mengimpor library numpy\n",
    "dataFrame = pd.read_csv('heart_2020_cleaned.csv')           #membaca file CSV dengan nama 'heart_2020_cleaned.csv' dan disimpan di dalam variabel dataFrame\n",
    "dataFrame                                                   #menampilkan isi dari variabel 'dataFrame' yang merupakan data dari file CSV yang telah dibaca"
   ]
  },
  {
   "cell_type": "markdown",
   "id": "ddc4ff6d-930d-4385-ac36-a514f1c0e349",
   "metadata": {},
   "source": [
    "1. __Menampilkan rata-rata, standar deviasi, nilai minimum, nilai maksimum, Q1, Q2, dan Q3 dari attribute bertipe angka.__"
   ]
  },
  {
   "cell_type": "code",
   "execution_count": null,
   "id": "d4df1ca3-ac30-4655-be7b-d99bdccbce52",
   "metadata": {},
   "outputs": [],
   "source": [
    "cNumerik = dataFrame.select_dtypes(include = np.number) #mengambil atribut yang bertipe numerik\n",
    "\n",
    "#menghitung rata-rata, standar deviasi, nilai minimum, nilai maksimum, Q1, Q2, dan Q3\n",
    "rata_rata = cNumerik.mean() #menghitung nilai rata-rata\n",
    "standar_deviasi = cNumerik.std() #menghitung nilai standar deviasi \n",
    "nilai_min = cNumerik.min() #menghitung nilai minimum\n",
    "nilai_maks = cNumerik.max() #menghitung nilai maksimum\n",
    "Q1 = cNumerik.quantile(25 / 100) #menghitung Quartil 1 / bawah\n",
    "Q2 = cNumerik.quantile(50 / 100) #menghitung Quartil 2 / Median\n",
    "Q3 = cNumerik.quantile(75 / 100) #menghitung Quartil 3 / atas\n",
    "\n",
    "#menampilkan hasil \n",
    "hasil = pd.DataFrame({\n",
    "    'Rata-rata': rata_rata,\n",
    "    'Standar Deviasi': standar_deviasi,\n",
    "    'Nilai Minimum': nilai_min,\n",
    "    'Nilai Maksimum': nilai_maks,\n",
    "    'Q1': Q1,\n",
    "    'Q2': Q2,\n",
    "    'Q3': Q3\n",
    "})\n",
    "\n",
    "print(hasil.to_string()) #menampilkan seluruh isi dari DataFrame hasil. "
   ]
  },
  {
   "cell_type": "markdown",
   "id": "e1936847-71d8-44f8-900f-7ee27928f620",
   "metadata": {},
   "source": [
    "2. __Menampilkan 10 record pertama dari dataset dengan attribute bertipe angka.__ "
   ]
  },
  {
   "cell_type": "code",
   "execution_count": null,
   "id": "28a45e23-ade4-4eab-81da-b4c193bca8f6",
   "metadata": {},
   "outputs": [],
   "source": [
    "x = cNumerik.head(10); #mengambil 10 record pertama dari dataFrame dengan atribut angka dan disimpan di dalam variabel x\n",
    "print(x) #menampilkan data yang ada di variabel x"
   ]
  },
  {
   "cell_type": "markdown",
   "id": "2c3bdd1c-cc6b-4963-927c-536d28683382",
   "metadata": {},
   "source": [
    "3. __Menampilkan informasi jumlah record, jumlah attribute, nama attribute, jumlah attribute dengan tipe angka. Masukkan informasi tersebut dalam dictionary dengan key sesuai nama informasinya. Tampilkan isi dari dictionary tersebut sebagus mungkin.__"
   ]
  },
  {
   "cell_type": "code",
   "execution_count": null,
   "id": "8d61ed64-3337-44e7-b322-581609c27b69",
   "metadata": {},
   "outputs": [],
   "source": [
    "jumlah_record = len(dataFrame)                     #menghitung jumlah record \n",
    "jumlah_atribut = len(dataFrame.columns)            #menghitung jumlah atribut \n",
    "nama_atribut = list(dataFrame.columns)             #mengambil nama-nama atribut dan mengubahnya ke dalam list\n",
    "jumlah_atribut_numerik = len(dataFrame.select_dtypes(include = np.number).columns) #menghitung jumlah atribut numerik\n",
    "\n",
    "#membuat dictionary 'info' yang berisi informasi yang telah dihitung sebelumnya\n",
    "info = {\n",
    "    'Jumlah Record': jumlah_record,\n",
    "    'Jumlah Atribut': jumlah_atribut,\n",
    "    'Jumlah Atribut Numerik': jumlah_atribut_numerik,\n",
    "    'Nama Atribut': nama_atribut,\n",
    "}\n",
    "\n",
    "#membuat header tabel\n",
    "print(\"|==============================================================|\")\n",
    "print(\"|         INFORMASI           |            HASIL               |\")\n",
    "print(\"|=============================|================================|\")\n",
    "\n",
    "#menampilkan informasi dalam dictionary\n",
    "key_max = max(len(key) for key in info.keys())  #menghitung panjang maksimum dari key\n",
    "#menggunakan perulangan untuk menjelajahi setiap key dan value(nilai) yang ada dalam dictionary 'info'\n",
    "for key, value in info.items():\n",
    "    #memeriksa apakah key saat ini adalah 'Nama Atribut'\n",
    "    if key == 'Nama Atribut':\n",
    "        print(\"|{:<29}|-{:<31}|\".format(key, value[0])) #menampilkan nama atribut pertama \n",
    "        #menggunakan perulangan untuk menampilkan nama atribut lainnya\n",
    "        for atribut in value[1:]: \n",
    "            print(\"|{:<29}|-{:<31}|\".format('', atribut))\n",
    "    else:\n",
    "        #menampilkan nilai dari key yang bukan 'Nama Atribut' \n",
    "        print(\"|{:<29}|{:<32}|\".format(key, value))\n",
    "        print(\"|_____________________________|________________________________|\")\n",
    "print(\"|==============================================================|\")"
   ]
  },
  {
   "cell_type": "markdown",
   "id": "0804511b-61cf-4a84-a42b-aea77607617f",
   "metadata": {},
   "source": [
    "4. __Menampilkan nilai dataset pada baris dimulai dengan 3 digit NIM akhir hingga data terakhir dan kolom ke 4 hingga kolom terakhir menggunakan ke 2 metode slice.__"
   ]
  },
  {
   "cell_type": "code",
   "execution_count": null,
   "id": "a1908afd-9c00-4840-9862-4668695d956b",
   "metadata": {},
   "outputs": [],
   "source": [
    "while True:\n",
    "    print(\"|=====================================|\")\n",
    "    print(\"|            MENU SLICING             |\")\n",
    "    print(\"|=====================================|\")\n",
    "    print(\"|1. Menampilkan data menggunakan loc  |\")\n",
    "    print(\"|2. Menampilkan data menggunakan iloc |\")\n",
    "    print(\"|3. Keluar                            |\")\n",
    "    print(\"|=====================================|\")\n",
    "    pilih = input(\"\\n|Pilih menu yang diinginkan (1/2/3): \")\n",
    "\n",
    "    if pilih == '1':\n",
    "        print(\"================================================================================\")\n",
    "        print(\"|                      MENAMPILKAN DATA MENGGUNAKAN LOC                        |\")\n",
    "        print(\"================================================================================\")\n",
    "       #menampilkan nilai dataset pada baris dimulai dengan 3 digit NIM akhir hingga data terakhir dan kolom ke 4 hingga kolom terakhir menggunakan loc\n",
    "        data = dataFrame.loc[60:, dataFrame.columns[4:]]\n",
    "        print(\"\\n\", data)\n",
    "        print(\"================================================================================\")\n",
    "    elif pilih == '2':\n",
    "        print(\"================================================================================\")\n",
    "        print(\"|                      MENAMPILKAN DATA MENGGUNAKAN ILOC                       |\")\n",
    "        print(\"================================================================================\")\n",
    "        #Menampilkan nilai dataset pada baris dimulai dengan 3 digit NIM akhir hingga data terakhir dan kolom ke 4 hingga kolom terakhir menggunakan iloc\n",
    "        data = dataFrame.iloc[60:, 4:] \n",
    "        print(\"\\n\", data)\n",
    "        print(\"================================================================================\")\n",
    "    elif pilih == '3':\n",
    "        print(\"\\n|=====================================|\")\n",
    "        print(\"|              SELESAI                |\")\n",
    "        print(\"|=====================================|\")\n",
    "        break\n",
    "    else:\n",
    "        print(\"\\n|=====================================|\")\n",
    "        print(\"|        INPUTAN TIDAK VALID          |\")\n",
    "        print(\"|=====================================|\")\n",
    "        print()\n"
   ]
  },
  {
   "cell_type": "markdown",
   "id": "040e50ec-f551-4b2f-9964-c88e53c012bb",
   "metadata": {},
   "source": [
    "5. __Menampilkan jumlah nilai dari semua attribute yang bernilai object.__"
   ]
  },
  {
   "cell_type": "code",
   "execution_count": null,
   "id": "ed030d23-3f67-4ecf-8cf2-8f3991f857ac",
   "metadata": {},
   "outputs": [],
   "source": [
    "cObjek = dataFrame.select_dtypes(include='object') #mengambil atribut yang bertipe objek (string)\n",
    "\n",
    "#membuat dictionary untuk menyimpan jumlah nilai unik(berbeda) dari setiap atribut\n",
    "jmlh = {}\n",
    "#menghitung jumlah nilai unik (berbeda) untuk setiap atribut\n",
    "for atribut in cObjek.columns:\n",
    "    jumlah_nilai = len(cObjek[atribut].value_counts()) #menggunakan .value_counts() untuk menghitung berapa kali nilai muncul, lalu menghitung berapa banyak nilai yang unik(berbeda)\n",
    "    jmlh[atribut] = jumlah_nilai  #menyimpan jumlah nilai dalam dictionary\n",
    "\n",
    "#menampilkan jumlah nilai untuk setiap atribut\n",
    "print(\"|================================================|\")\n",
    "print(\"|    ATRIBUT OBJECT     |      JUMLAH NILAI      |\")\n",
    "print(\"|=======================|========================|\")\n",
    "for atribut, jumlah in jmlh.items(): #menggunakan perulangan untuk mengiterasi melalui dictionary jmlh yang berisi jumlah nilai unik(berbeda) untuk setiap atribut\n",
    "    print(\"|{:<23}|            {:<12}|\".format(atribut, jumlah))\n",
    "print(\"|================================================|\")"
   ]
  }
 ],
 "metadata": {
  "kernelspec": {
   "display_name": "Deby_060",
   "language": "python",
   "name": "deby_060"
  },
  "language_info": {
   "codemirror_mode": {
    "name": "ipython",
    "version": 3
   },
   "file_extension": ".py",
   "mimetype": "text/x-python",
   "name": "python",
   "nbconvert_exporter": "python",
   "pygments_lexer": "ipython3",
   "version": "3.10.7"
  }
 },
 "nbformat": 4,
 "nbformat_minor": 5
}
